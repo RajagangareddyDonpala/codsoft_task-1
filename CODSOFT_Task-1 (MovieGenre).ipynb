{
 "cells": [
  {
   "cell_type": "code",
   "execution_count": 1,
   "id": "a37d0746-fa7b-4856-b604-d45defb91d0d",
   "metadata": {},
   "outputs": [],
   "source": [
    "import pandas as pd\n",
    "import matplotlib.pyplot as plt\n",
    "import seaborn as sns\n",
    "import re\n",
    "import nltk\n",
    "import string\n",
    "from nltk.corpus import stopwords\n",
    "from nltk.stem import LancasterStemmer\n",
    "from sklearn.feature_extraction.text import TfidfVectorizer\n",
    "from sklearn.model_selection import train_test_split\n",
    "from sklearn.naive_bayes import MultinomialNB\n",
    "from sklearn.metrics import accuracy_score, classification_report"
   ]
  },
  {
   "cell_type": "code",
   "execution_count": 2,
   "id": "dd4f60ef-4314-4413-aa46-0fcac6cc7d37",
   "metadata": {},
   "outputs": [],
   "source": [
    "dataset=pd.read_csv(\"train_data.txt\",sep=\":::\", names=[\"TITLE\", \"GENRE\", \"DESCRIPTION\"], engine=\"python\")"
   ]
  },
  {
   "cell_type": "code",
   "execution_count": 5,
   "id": "fc1bb5a0-7949-461b-8066-09d13be88d21",
   "metadata": {},
   "outputs": [
    {
     "data": {
      "text/html": [
       "<div>\n",
       "<style scoped>\n",
       "    .dataframe tbody tr th:only-of-type {\n",
       "        vertical-align: middle;\n",
       "    }\n",
       "\n",
       "    .dataframe tbody tr th {\n",
       "        vertical-align: top;\n",
       "    }\n",
       "\n",
       "    .dataframe thead th {\n",
       "        text-align: right;\n",
       "    }\n",
       "</style>\n",
       "<table border=\"1\" class=\"dataframe\">\n",
       "  <thead>\n",
       "    <tr style=\"text-align: right;\">\n",
       "      <th></th>\n",
       "      <th>TITLE</th>\n",
       "      <th>GENRE</th>\n",
       "      <th>DESCRIPTION</th>\n",
       "    </tr>\n",
       "  </thead>\n",
       "  <tbody>\n",
       "    <tr>\n",
       "      <th>1</th>\n",
       "      <td>Oscar et la dame rose (2009)</td>\n",
       "      <td>drama</td>\n",
       "      <td>Listening in to a conversation between his do...</td>\n",
       "    </tr>\n",
       "    <tr>\n",
       "      <th>2</th>\n",
       "      <td>Cupid (1997)</td>\n",
       "      <td>thriller</td>\n",
       "      <td>A brother and sister with a past incestuous r...</td>\n",
       "    </tr>\n",
       "    <tr>\n",
       "      <th>3</th>\n",
       "      <td>Young, Wild and Wonderful (1980)</td>\n",
       "      <td>adult</td>\n",
       "      <td>As the bus empties the students for their fie...</td>\n",
       "    </tr>\n",
       "    <tr>\n",
       "      <th>4</th>\n",
       "      <td>The Secret Sin (1915)</td>\n",
       "      <td>drama</td>\n",
       "      <td>To help their unemployed father make ends mee...</td>\n",
       "    </tr>\n",
       "    <tr>\n",
       "      <th>5</th>\n",
       "      <td>The Unrecovered (2007)</td>\n",
       "      <td>drama</td>\n",
       "      <td>The film's title refers not only to the un-re...</td>\n",
       "    </tr>\n",
       "    <tr>\n",
       "      <th>...</th>\n",
       "      <td>...</td>\n",
       "      <td>...</td>\n",
       "      <td>...</td>\n",
       "    </tr>\n",
       "    <tr>\n",
       "      <th>54210</th>\n",
       "      <td>\"Bonino\" (1953)</td>\n",
       "      <td>comedy</td>\n",
       "      <td>This short-lived NBC live sitcom centered on ...</td>\n",
       "    </tr>\n",
       "    <tr>\n",
       "      <th>54211</th>\n",
       "      <td>Dead Girls Don't Cry (????)</td>\n",
       "      <td>horror</td>\n",
       "      <td>The NEXT Generation of EXPLOITATION. The sist...</td>\n",
       "    </tr>\n",
       "    <tr>\n",
       "      <th>54212</th>\n",
       "      <td>Ronald Goedemondt: Ze bestaan echt (2008)</td>\n",
       "      <td>documentary</td>\n",
       "      <td>Ze bestaan echt, is a stand-up comedy about g...</td>\n",
       "    </tr>\n",
       "    <tr>\n",
       "      <th>54213</th>\n",
       "      <td>Make Your Own Bed (1944)</td>\n",
       "      <td>comedy</td>\n",
       "      <td>Walter and Vivian live in the country and hav...</td>\n",
       "    </tr>\n",
       "    <tr>\n",
       "      <th>54214</th>\n",
       "      <td>Nature's Fury: Storm of the Century (2006)</td>\n",
       "      <td>history</td>\n",
       "      <td>On Labor Day Weekend, 1935, the most intense ...</td>\n",
       "    </tr>\n",
       "  </tbody>\n",
       "</table>\n",
       "<p>54214 rows × 3 columns</p>\n",
       "</div>"
      ],
      "text/plain": [
       "                                              TITLE          GENRE  \\\n",
       "1                     Oscar et la dame rose (2009)          drama    \n",
       "2                                     Cupid (1997)       thriller    \n",
       "3                 Young, Wild and Wonderful (1980)          adult    \n",
       "4                            The Secret Sin (1915)          drama    \n",
       "5                           The Unrecovered (2007)          drama    \n",
       "...                                             ...            ...   \n",
       "54210                              \"Bonino\" (1953)         comedy    \n",
       "54211                  Dead Girls Don't Cry (????)         horror    \n",
       "54212    Ronald Goedemondt: Ze bestaan echt (2008)    documentary    \n",
       "54213                     Make Your Own Bed (1944)         comedy    \n",
       "54214   Nature's Fury: Storm of the Century (2006)        history    \n",
       "\n",
       "                                             DESCRIPTION  \n",
       "1       Listening in to a conversation between his do...  \n",
       "2       A brother and sister with a past incestuous r...  \n",
       "3       As the bus empties the students for their fie...  \n",
       "4       To help their unemployed father make ends mee...  \n",
       "5       The film's title refers not only to the un-re...  \n",
       "...                                                  ...  \n",
       "54210   This short-lived NBC live sitcom centered on ...  \n",
       "54211   The NEXT Generation of EXPLOITATION. The sist...  \n",
       "54212   Ze bestaan echt, is a stand-up comedy about g...  \n",
       "54213   Walter and Vivian live in the country and hav...  \n",
       "54214   On Labor Day Weekend, 1935, the most intense ...  \n",
       "\n",
       "[54214 rows x 3 columns]"
      ]
     },
     "execution_count": 5,
     "metadata": {},
     "output_type": "execute_result"
    }
   ],
   "source": [
    "dataset"
   ]
  },
  {
   "cell_type": "code",
   "execution_count": 7,
   "id": "237bac59-9d21-4a1a-9a0f-edeb2303e13a",
   "metadata": {},
   "outputs": [
    {
     "name": "stdout",
     "output_type": "stream",
     "text": [
      "<class 'pandas.core.frame.DataFrame'>\n",
      "Index: 54214 entries, 1 to 54214\n",
      "Data columns (total 3 columns):\n",
      " #   Column       Non-Null Count  Dtype \n",
      "---  ------       --------------  ----- \n",
      " 0   TITLE        54214 non-null  object\n",
      " 1   GENRE        54214 non-null  object\n",
      " 2   DESCRIPTION  54214 non-null  object\n",
      "dtypes: object(3)\n",
      "memory usage: 1.7+ MB\n"
     ]
    }
   ],
   "source": [
    "dataset.info()"
   ]
  },
  {
   "cell_type": "code",
   "execution_count": 9,
   "id": "af3dfa4e-4fc6-4990-a3e3-e26c9e31aec4",
   "metadata": {
    "scrolled": true
   },
   "outputs": [
    {
     "data": {
      "text/html": [
       "<div>\n",
       "<style scoped>\n",
       "    .dataframe tbody tr th:only-of-type {\n",
       "        vertical-align: middle;\n",
       "    }\n",
       "\n",
       "    .dataframe tbody tr th {\n",
       "        vertical-align: top;\n",
       "    }\n",
       "\n",
       "    .dataframe thead th {\n",
       "        text-align: right;\n",
       "    }\n",
       "</style>\n",
       "<table border=\"1\" class=\"dataframe\">\n",
       "  <thead>\n",
       "    <tr style=\"text-align: right;\">\n",
       "      <th></th>\n",
       "      <th>TITLE</th>\n",
       "      <th>GENRE</th>\n",
       "      <th>DESCRIPTION</th>\n",
       "    </tr>\n",
       "  </thead>\n",
       "  <tbody>\n",
       "    <tr>\n",
       "      <th>count</th>\n",
       "      <td>54214</td>\n",
       "      <td>54214</td>\n",
       "      <td>54214</td>\n",
       "    </tr>\n",
       "    <tr>\n",
       "      <th>unique</th>\n",
       "      <td>54214</td>\n",
       "      <td>27</td>\n",
       "      <td>54086</td>\n",
       "    </tr>\n",
       "    <tr>\n",
       "      <th>top</th>\n",
       "      <td>Oscar et la dame rose (2009)</td>\n",
       "      <td>drama</td>\n",
       "      <td>Grammy - music award of the American academy ...</td>\n",
       "    </tr>\n",
       "    <tr>\n",
       "      <th>freq</th>\n",
       "      <td>1</td>\n",
       "      <td>13613</td>\n",
       "      <td>12</td>\n",
       "    </tr>\n",
       "  </tbody>\n",
       "</table>\n",
       "</div>"
      ],
      "text/plain": [
       "                                 TITLE    GENRE  \\\n",
       "count                            54214    54214   \n",
       "unique                           54214       27   \n",
       "top      Oscar et la dame rose (2009)    drama    \n",
       "freq                                 1    13613   \n",
       "\n",
       "                                              DESCRIPTION  \n",
       "count                                               54214  \n",
       "unique                                              54086  \n",
       "top      Grammy - music award of the American academy ...  \n",
       "freq                                                   12  "
      ]
     },
     "execution_count": 9,
     "metadata": {},
     "output_type": "execute_result"
    }
   ],
   "source": [
    "dataset.describe()"
   ]
  },
  {
   "cell_type": "code",
   "execution_count": 11,
   "id": "760baeb5-8355-4dbe-b378-5b469b5d4d76",
   "metadata": {},
   "outputs": [
    {
     "data": {
      "text/plain": [
       "TITLE          0\n",
       "GENRE          0\n",
       "DESCRIPTION    0\n",
       "dtype: int64"
      ]
     },
     "execution_count": 11,
     "metadata": {},
     "output_type": "execute_result"
    }
   ],
   "source": [
    "dataset.isnull().sum()"
   ]
  },
  {
   "cell_type": "code",
   "execution_count": 13,
   "id": "4e0944bd-b08a-4e84-845b-bf9e392087aa",
   "metadata": {},
   "outputs": [
    {
     "data": {
      "text/plain": [
       "GENRE\n",
       "drama           13613\n",
       "documentary     13096\n",
       "comedy           7447\n",
       "short            5073\n",
       "horror           2204\n",
       "thriller         1591\n",
       "action           1315\n",
       "western          1032\n",
       "reality-tv        884\n",
       "family            784\n",
       "adventure         775\n",
       "music             731\n",
       "romance           672\n",
       "sci-fi            647\n",
       "adult             590\n",
       "crime             505\n",
       "animation         498\n",
       "sport             432\n",
       "talk-show         391\n",
       "fantasy           323\n",
       "mystery           319\n",
       "musical           277\n",
       "biography         265\n",
       "history           243\n",
       "game-show         194\n",
       "news              181\n",
       "war               132\n",
       "Name: count, dtype: int64"
      ]
     },
     "execution_count": 13,
     "metadata": {},
     "output_type": "execute_result"
    }
   ],
   "source": [
    "dataset[\"GENRE\"].value_counts()"
   ]
  },
  {
   "cell_type": "code",
   "execution_count": 15,
   "id": "ed5ae00b-066f-4654-95b0-c879cc3dc078",
   "metadata": {},
   "outputs": [
    {
     "data": {
      "text/plain": [
       "array([' drama ', ' thriller ', ' adult ', ' documentary ', ' comedy ',\n",
       "       ' crime ', ' reality-tv ', ' horror ', ' sport ', ' animation ',\n",
       "       ' action ', ' fantasy ', ' short ', ' sci-fi ', ' music ',\n",
       "       ' adventure ', ' talk-show ', ' western ', ' family ', ' mystery ',\n",
       "       ' history ', ' news ', ' biography ', ' romance ', ' game-show ',\n",
       "       ' musical ', ' war '], dtype=object)"
      ]
     },
     "execution_count": 15,
     "metadata": {},
     "output_type": "execute_result"
    }
   ],
   "source": [
    "dataset[\"GENRE\"].unique()"
   ]
  },
  {
   "cell_type": "code",
   "execution_count": 17,
   "id": "882e56d6-cbb1-407c-ba0c-70e2b54d68f5",
   "metadata": {},
   "outputs": [
    {
     "data": {
      "text/plain": [
       "([<matplotlib.patches.Wedge at 0x1e751988f80>,\n",
       "  <matplotlib.patches.Wedge at 0x1e74e1edac0>,\n",
       "  <matplotlib.patches.Wedge at 0x1e74e1ee6f0>,\n",
       "  <matplotlib.patches.Wedge at 0x1e751989640>,\n",
       "  <matplotlib.patches.Wedge at 0x1e751989ca0>,\n",
       "  <matplotlib.patches.Wedge at 0x1e75198a300>,\n",
       "  <matplotlib.patches.Wedge at 0x1e75198a990>,\n",
       "  <matplotlib.patches.Wedge at 0x1e75198af90>,\n",
       "  <matplotlib.patches.Wedge at 0x1e75198b5f0>,\n",
       "  <matplotlib.patches.Wedge at 0x1e75198bc80>,\n",
       "  <matplotlib.patches.Wedge at 0x1e75192c2f0>,\n",
       "  <matplotlib.patches.Wedge at 0x1e75192c950>,\n",
       "  <matplotlib.patches.Wedge at 0x1e75192cfb0>,\n",
       "  <matplotlib.patches.Wedge at 0x1e75192d610>,\n",
       "  <matplotlib.patches.Wedge at 0x1e75192dc70>,\n",
       "  <matplotlib.patches.Wedge at 0x1e75192e2a0>,\n",
       "  <matplotlib.patches.Wedge at 0x1e75192e930>,\n",
       "  <matplotlib.patches.Wedge at 0x1e75192efc0>,\n",
       "  <matplotlib.patches.Wedge at 0x1e75192f5c0>,\n",
       "  <matplotlib.patches.Wedge at 0x1e75192fc50>,\n",
       "  <matplotlib.patches.Wedge at 0x1e7516682f0>,\n",
       "  <matplotlib.patches.Wedge at 0x1e751668980>,\n",
       "  <matplotlib.patches.Wedge at 0x1e751668fb0>,\n",
       "  <matplotlib.patches.Wedge at 0x1e751669640>,\n",
       "  <matplotlib.patches.Wedge at 0x1e751669c70>,\n",
       "  <matplotlib.patches.Wedge at 0x1e75166a300>,\n",
       "  <matplotlib.patches.Wedge at 0x1e75166a960>],\n",
       " [Text(0.7751310052677347, 0.7804946666522656, ' drama '),\n",
       "  Text(-0.762411592605899, 0.7929240590751027, ' thriller '),\n",
       "  Text(-1.0193079400360507, -0.41353515374084354, ' adult '),\n",
       "  Text(-0.4882199992075867, -0.9857186375298705, ' documentary '),\n",
       "  Text(-0.04199629696967724, -1.0991980308574225, ' comedy '),\n",
       "  Text(0.19879898575660607, -1.0818867608313474, ' crime '),\n",
       "  Text(0.3773134294046659, -1.0332640398227795, ' reality-tv '),\n",
       "  Text(0.5139243650170421, -0.9725645207603609, ' horror '),\n",
       "  Text(0.6185204948981458, -0.9096331114196278, ' sport '),\n",
       "  Text(0.7034192435309771, -0.8456957891761719, ' animation '),\n",
       "  Text(0.7768477821813463, -0.7787859290716056, ' action '),\n",
       "  Text(0.8417695873925628, -0.7081129583201785, ' fantasy '),\n",
       "  Text(0.8964960475145264, -0.6374126111011863, ' short '),\n",
       "  Text(0.9425508211632994, -0.5670960672799541, ' sci-fi '),\n",
       "  Text(0.9807459110791389, -0.49813397585544206, ' music '),\n",
       "  Text(1.0103591065008963, -0.4349419224571378, ' adventure '),\n",
       "  Text(1.033918409835597, -0.37551660656092295, ' talk-show '),\n",
       "  Text(1.0526447735773312, -0.31927884468020923, ' western '),\n",
       "  Text(1.0666689258985327, -0.26873295764098365, ' family '),\n",
       "  Text(1.0768716705912713, -0.2243822744290747, ' mystery '),\n",
       "  Text(1.0844722244616178, -0.18417381565051724, ' history '),\n",
       "  Text(1.090185054632914, -0.1466170067046476, ' news '),\n",
       "  Text(1.0942515545044673, -0.11230999717103145, ' biography '),\n",
       "  Text(1.0970831225709432, -0.08005387042478758, ' romance '),\n",
       "  Text(1.0987583885594967, -0.05224943607483352, ' game-show '),\n",
       "  Text(1.099634290837754, -0.028362411987518984, ' musical '),\n",
       "  Text(1.0999678199690621, -0.008413978399600189, ' war ')],\n",
       " [Text(0.4227987301460371, 0.42572436362850846, '25.1%'),\n",
       "  Text(-0.41586086869412664, 0.4325040322227833, '24.2%'),\n",
       "  Text(-0.555986149110573, -0.22556462931318735, '13.7%'),\n",
       "  Text(-0.2663018177495927, -0.5376647113799293, '9.4%'),\n",
       "  Text(-0.022907071074369397, -0.5995625622858667, '4.1%'),\n",
       "  Text(0.10843581041269422, -0.590120051362553, '2.9%'),\n",
       "  Text(0.20580732512981773, -0.5635985671760615, '2.4%'),\n",
       "  Text(0.2803223809183865, -0.5304897385965605, '1.9%'),\n",
       "  Text(0.33737481539898856, -0.49616351531979686, '1.6%'),\n",
       "  Text(0.38368322374416924, -0.4612886122779119, '1.4%'),\n",
       "  Text(0.42373515391709793, -0.42479232494814845, '1.4%'),\n",
       "  Text(0.45914704766867054, -0.3862434318110064, '1.3%'),\n",
       "  Text(0.4889978440988325, -0.3476796060551925, '1.2%'),\n",
       "  Text(0.514118629725436, -0.3093251276072476, '1.2%'),\n",
       "  Text(0.5349523151340757, -0.27170944137569564, '1.1%'),\n",
       "  Text(0.551104967182307, -0.23724104861298423, '0.9%'),\n",
       "  Text(0.5639554962739618, -0.20482723994232158, '0.9%'),\n",
       "  Text(0.5741698764967261, -0.1741520970982959, '0.8%'),\n",
       "  Text(0.5818194141264723, -0.14658161325871835, '0.7%'),\n",
       "  Text(0.5873845475952388, -0.12239033150676801, '0.6%'),\n",
       "  Text(0.5915303042517914, -0.10045844490028212, '0.6%'),\n",
       "  Text(0.5946463934361348, -0.07997291274798961, '0.5%'),\n",
       "  Text(0.5968644842751639, -0.061259998456926236, '0.5%'),\n",
       "  Text(0.5984089759477872, -0.04366574750442958, '0.4%'),\n",
       "  Text(0.5993227573960891, -0.028499692404454643, '0.4%'),\n",
       "  Text(0.5998005222751386, -0.015470406538646717, '0.3%'),\n",
       "  Text(0.599982447255852, -0.004589442763418284, '0.2%')])"
      ]
     },
     "execution_count": 17,
     "metadata": {},
     "output_type": "execute_result"
    },
    {
     "data": {
      "image/png": "[encoded data removed]",
      "text/plain": [
       "<Figure size 2500x1000 with 1 Axes>"
      ]
     },
     "metadata": {},
     "output_type": "display_data"
    }
   ],
   "source": [
    "fig=plt.figure(figsize=(25,10))\n",
    "plt.pie(dataset[\"GENRE\"].value_counts(),labels=[' drama ', ' thriller ', ' adult ', ' documentary ', ' comedy ',\n",
    "       ' crime ', ' reality-tv ', ' horror ', ' sport ', ' animation ',\n",
    "       ' action ', ' fantasy ', ' short ', ' sci-fi ', ' music ',\n",
    "       ' adventure ', ' talk-show ', ' western ', ' family ', ' mystery ',\n",
    "       ' history ', ' news ', ' biography ', ' romance ', ' game-show ',\n",
    "       ' musical ', ' war '], autopct= '%0.1f%%')"
   ]
  },
  {
   "cell_type": "code",
   "execution_count": 19,
   "id": "7c812d1b-fe32-48b6-ba1c-2866b3f8f6b1",
   "metadata": {
    "scrolled": true
   },
   "outputs": [
    {
     "name": "stderr",
     "output_type": "stream",
     "text": [
      "C:\\Users\\rajag\\AppData\\Local\\Temp\\ipykernel_11984\\250266615.py:2: FutureWarning: \n",
      "\n",
      "Passing `palette` without assigning `hue` is deprecated and will be removed in v0.14.0. Assign the `x` variable to `hue` and set `legend=False` for the same effect.\n",
      "\n",
      "  sns.countplot(data=dataset, x=\"GENRE\", order= dataset[\"GENRE\"].value_counts().index, palette = \"YlGnBu\",color=\"r\")\n"
     ]
    },
    {
     "data": {
      "image/png": "[encoded data removed]",
      "text/plain": [
       "<Figure size 2100x1100 with 1 Axes>"
      ]
     },
     "metadata": {},
     "output_type": "display_data"
    }
   ],
   "source": [
    "plt.figure(figsize=(21,11))\n",
    "sns.countplot(data=dataset, x=\"GENRE\", order= dataset[\"GENRE\"].value_counts().index, palette = \"YlGnBu\",color=\"r\")\n",
    "plt.show()"
   ]
  },
  {
   "cell_type": "code",
   "execution_count": 22,
   "id": "ce7ddb99-f493-4591-8780-4c9dc1fedae5",
   "metadata": {},
   "outputs": [],
   "source": [
    "stemmer = LancasterStemmer()\n",
    "stop_words = set(stopwords.words(\"english\"))"
   ]
  },
  {
   "cell_type": "code",
   "execution_count": 24,
   "id": "43c6f314-972c-44ac-9bfe-c3fc5f4f1f6f",
   "metadata": {},
   "outputs": [],
   "source": [
    "def cleaning_data(text):\n",
    "    text = text.lower()\n",
    "    text = re.sub(r'@\\S+', '', text)\n",
    "    text = re.sub(r'http\\S+', '', text)\n",
    "    text = re.sub(r'.pic\\S+', '', text)\n",
    "    text = re.sub(r'[^a-zA-Z+]', ' ', text)\n",
    "    text = \"\".join([i for i in text if i not in string.punctuation])\n",
    "    words = nltk.word_tokenize(text)\n",
    "    text = \" \".join([i for i in words if i not in stop_words and len(i) > 2])\n",
    "    text = re.sub(r\"\\s+\", \" \", text).strip()  \n",
    "    return text"
   ]
  },
  {
   "cell_type": "code",
   "execution_count": 26,
   "id": "e7e6e59e-49c9-4d9c-b896-c8f2000835d3",
   "metadata": {},
   "outputs": [],
   "source": [
    "dataset[\"TextCleaning\"] = dataset[\"DESCRIPTION\"].apply(cleaning_data)\n",
    "# test_data[\"TextCleaning\"] = test_data[\"DESCRIPTION\"].apply(cleaning_data)"
   ]
  },
  {
   "cell_type": "code",
   "execution_count": 27,
   "id": "68239b82-16b2-43bc-abd3-ee2124b3e439",
   "metadata": {},
   "outputs": [
    {
     "data": {
      "text/html": [
       "<div>\n",
       "<style scoped>\n",
       "    .dataframe tbody tr th:only-of-type {\n",
       "        vertical-align: middle;\n",
       "    }\n",
       "\n",
       "    .dataframe tbody tr th {\n",
       "        vertical-align: top;\n",
       "    }\n",
       "\n",
       "    .dataframe thead th {\n",
       "        text-align: right;\n",
       "    }\n",
       "</style>\n",
       "<table border=\"1\" class=\"dataframe\">\n",
       "  <thead>\n",
       "    <tr style=\"text-align: right;\">\n",
       "      <th></th>\n",
       "      <th>TITLE</th>\n",
       "      <th>GENRE</th>\n",
       "      <th>DESCRIPTION</th>\n",
       "      <th>TextCleaning</th>\n",
       "    </tr>\n",
       "  </thead>\n",
       "  <tbody>\n",
       "    <tr>\n",
       "      <th>1</th>\n",
       "      <td>Oscar et la dame rose (2009)</td>\n",
       "      <td>drama</td>\n",
       "      <td>Listening in to a conversation between his do...</td>\n",
       "      <td>listening conversation doctor parents year old...</td>\n",
       "    </tr>\n",
       "    <tr>\n",
       "      <th>2</th>\n",
       "      <td>Cupid (1997)</td>\n",
       "      <td>thriller</td>\n",
       "      <td>A brother and sister with a past incestuous r...</td>\n",
       "      <td>brother sister past incestuous relationship cu...</td>\n",
       "    </tr>\n",
       "    <tr>\n",
       "      <th>3</th>\n",
       "      <td>Young, Wild and Wonderful (1980)</td>\n",
       "      <td>adult</td>\n",
       "      <td>As the bus empties the students for their fie...</td>\n",
       "      <td>bus empties students field trip museum natural...</td>\n",
       "    </tr>\n",
       "    <tr>\n",
       "      <th>4</th>\n",
       "      <td>The Secret Sin (1915)</td>\n",
       "      <td>drama</td>\n",
       "      <td>To help their unemployed father make ends mee...</td>\n",
       "      <td>help unemployed father make ends meet edith tw...</td>\n",
       "    </tr>\n",
       "    <tr>\n",
       "      <th>5</th>\n",
       "      <td>The Unrecovered (2007)</td>\n",
       "      <td>drama</td>\n",
       "      <td>The film's title refers not only to the un-re...</td>\n",
       "      <td>film title refers recovered bodies ground zero...</td>\n",
       "    </tr>\n",
       "    <tr>\n",
       "      <th>...</th>\n",
       "      <td>...</td>\n",
       "      <td>...</td>\n",
       "      <td>...</td>\n",
       "      <td>...</td>\n",
       "    </tr>\n",
       "    <tr>\n",
       "      <th>54210</th>\n",
       "      <td>\"Bonino\" (1953)</td>\n",
       "      <td>comedy</td>\n",
       "      <td>This short-lived NBC live sitcom centered on ...</td>\n",
       "      <td>short lived nbc live sitcom centered bonino wo...</td>\n",
       "    </tr>\n",
       "    <tr>\n",
       "      <th>54211</th>\n",
       "      <td>Dead Girls Don't Cry (????)</td>\n",
       "      <td>horror</td>\n",
       "      <td>The NEXT Generation of EXPLOITATION. The sist...</td>\n",
       "      <td>next generation exploitation sisters kapa bay ...</td>\n",
       "    </tr>\n",
       "    <tr>\n",
       "      <th>54212</th>\n",
       "      <td>Ronald Goedemondt: Ze bestaan echt (2008)</td>\n",
       "      <td>documentary</td>\n",
       "      <td>Ze bestaan echt, is a stand-up comedy about g...</td>\n",
       "      <td>bestaan echt stand comedy growing facing fears...</td>\n",
       "    </tr>\n",
       "    <tr>\n",
       "      <th>54213</th>\n",
       "      <td>Make Your Own Bed (1944)</td>\n",
       "      <td>comedy</td>\n",
       "      <td>Walter and Vivian live in the country and hav...</td>\n",
       "      <td>walter vivian live country difficult time keep...</td>\n",
       "    </tr>\n",
       "    <tr>\n",
       "      <th>54214</th>\n",
       "      <td>Nature's Fury: Storm of the Century (2006)</td>\n",
       "      <td>history</td>\n",
       "      <td>On Labor Day Weekend, 1935, the most intense ...</td>\n",
       "      <td>labor day weekend intense hurricane ever make ...</td>\n",
       "    </tr>\n",
       "  </tbody>\n",
       "</table>\n",
       "<p>54214 rows × 4 columns</p>\n",
       "</div>"
      ],
      "text/plain": [
       "                                              TITLE          GENRE  \\\n",
       "1                     Oscar et la dame rose (2009)          drama    \n",
       "2                                     Cupid (1997)       thriller    \n",
       "3                 Young, Wild and Wonderful (1980)          adult    \n",
       "4                            The Secret Sin (1915)          drama    \n",
       "5                           The Unrecovered (2007)          drama    \n",
       "...                                             ...            ...   \n",
       "54210                              \"Bonino\" (1953)         comedy    \n",
       "54211                  Dead Girls Don't Cry (????)         horror    \n",
       "54212    Ronald Goedemondt: Ze bestaan echt (2008)    documentary    \n",
       "54213                     Make Your Own Bed (1944)         comedy    \n",
       "54214   Nature's Fury: Storm of the Century (2006)        history    \n",
       "\n",
       "                                             DESCRIPTION  \\\n",
       "1       Listening in to a conversation between his do...   \n",
       "2       A brother and sister with a past incestuous r...   \n",
       "3       As the bus empties the students for their fie...   \n",
       "4       To help their unemployed father make ends mee...   \n",
       "5       The film's title refers not only to the un-re...   \n",
       "...                                                  ...   \n",
       "54210   This short-lived NBC live sitcom centered on ...   \n",
       "54211   The NEXT Generation of EXPLOITATION. The sist...   \n",
       "54212   Ze bestaan echt, is a stand-up comedy about g...   \n",
       "54213   Walter and Vivian live in the country and hav...   \n",
       "54214   On Labor Day Weekend, 1935, the most intense ...   \n",
       "\n",
       "                                            TextCleaning  \n",
       "1      listening conversation doctor parents year old...  \n",
       "2      brother sister past incestuous relationship cu...  \n",
       "3      bus empties students field trip museum natural...  \n",
       "4      help unemployed father make ends meet edith tw...  \n",
       "5      film title refers recovered bodies ground zero...  \n",
       "...                                                  ...  \n",
       "54210  short lived nbc live sitcom centered bonino wo...  \n",
       "54211  next generation exploitation sisters kapa bay ...  \n",
       "54212  bestaan echt stand comedy growing facing fears...  \n",
       "54213  walter vivian live country difficult time keep...  \n",
       "54214  labor day weekend intense hurricane ever make ...  \n",
       "\n",
       "[54214 rows x 4 columns]"
      ]
     },
     "execution_count": 27,
     "metadata": {},
     "output_type": "execute_result"
    }
   ],
   "source": [
    "dataset"
   ]
  },
  {
   "cell_type": "code",
   "execution_count": 30,
   "id": "47d2cdc0-4009-44d2-a7bc-0c0c3ab54bc5",
   "metadata": {},
   "outputs": [],
   "source": [
    "vectorize = TfidfVectorizer()\n",
    "\n",
    "X_train = vectorize.fit_transform(dataset[\"TextCleaning\"])\n",
    "\n",
    "X_test = vectorize.transform(dataset[\"TextCleaning\"])"
   ]
  },
  {
   "cell_type": "code",
   "execution_count": 32,
   "id": "acf20a53-a848-4ce6-84ba-964114901a41",
   "metadata": {},
   "outputs": [
    {
     "data": {
      "text/plain": [
       "<54214x116601 sparse matrix of type '<class 'numpy.float64'>'\n",
       "\twith 2607208 stored elements in Compressed Sparse Row format>"
      ]
     },
     "execution_count": 32,
     "metadata": {},
     "output_type": "execute_result"
    }
   ],
   "source": [
    "X_train"
   ]
  },
  {
   "cell_type": "code",
   "execution_count": 34,
   "id": "4469d39a-5783-4a53-b0b3-6311823a0235",
   "metadata": {},
   "outputs": [
    {
     "data": {
      "text/plain": [
       "<54214x116601 sparse matrix of type '<class 'numpy.float64'>'\n",
       "\twith 2607208 stored elements in Compressed Sparse Row format>"
      ]
     },
     "execution_count": 34,
     "metadata": {},
     "output_type": "execute_result"
    }
   ],
   "source": [
    "X_test"
   ]
  },
  {
   "cell_type": "code",
   "execution_count": 36,
   "id": "5d311fce-f1b6-4646-9ae9-7b3e436a7867",
   "metadata": {},
   "outputs": [],
   "source": [
    "x=X_train\n",
    "y=dataset[\"GENRE\"]"
   ]
  },
  {
   "cell_type": "code",
   "execution_count": 38,
   "id": "db42df67-40d6-4895-871d-65f3173620b0",
   "metadata": {},
   "outputs": [
    {
     "data": {
      "text/plain": [
       "<54214x116601 sparse matrix of type '<class 'numpy.float64'>'\n",
       "\twith 2607208 stored elements in Compressed Sparse Row format>"
      ]
     },
     "execution_count": 38,
     "metadata": {},
     "output_type": "execute_result"
    }
   ],
   "source": [
    "x"
   ]
  },
  {
   "cell_type": "code",
   "execution_count": 40,
   "id": "87c23161-9695-46d3-866a-26633b55d482",
   "metadata": {},
   "outputs": [
    {
     "data": {
      "text/plain": [
       "1               drama \n",
       "2            thriller \n",
       "3               adult \n",
       "4               drama \n",
       "5               drama \n",
       "             ...      \n",
       "54210          comedy \n",
       "54211          horror \n",
       "54212     documentary \n",
       "54213          comedy \n",
       "54214         history \n",
       "Name: GENRE, Length: 54214, dtype: object"
      ]
     },
     "execution_count": 40,
     "metadata": {},
     "output_type": "execute_result"
    }
   ],
   "source": [
    "y"
   ]
  },
  {
   "cell_type": "code",
   "execution_count": 42,
   "id": "d61c512f-c78d-41f5-9d90-aff52c202b56",
   "metadata": {},
   "outputs": [],
   "source": [
    "x_train,x_test,y_train,y_test=train_test_split(x, y, test_size=0.2, random_state=0)"
   ]
  },
  {
   "cell_type": "code",
   "execution_count": 44,
   "id": "959ae153-f036-400d-b55e-f601fff06832",
   "metadata": {},
   "outputs": [],
   "source": [
    "# gnb =MultinomialNB()"
   ]
  },
  {
   "cell_type": "code",
   "execution_count": 46,
   "id": "9e5c6be7-a0c1-42ce-8659-2fb36f312b87",
   "metadata": {},
   "outputs": [],
   "source": [
    "# model=gnb.fit(x_train,y_train)"
   ]
  },
  {
   "cell_type": "code",
   "execution_count": 48,
   "id": "08b834c9-fe15-4d41-88e6-2d732b39d4a1",
   "metadata": {},
   "outputs": [],
   "source": [
    "# model.classes_"
   ]
  },
  {
   "cell_type": "code",
   "execution_count": 50,
   "id": "d8f2fca7-460e-412f-9703-697787f35f14",
   "metadata": {},
   "outputs": [],
   "source": [
    "# model"
   ]
  },
  {
   "cell_type": "code",
   "execution_count": 52,
   "id": "5963a4d6-03c8-4e2d-ac7d-961d1c54321c",
   "metadata": {},
   "outputs": [],
   "source": [
    "from sklearn.linear_model import LogisticRegression"
   ]
  },
  {
   "cell_type": "code",
   "execution_count": 54,
   "id": "7ee3a740-8f56-4456-9f3c-1f1cf8dc5f36",
   "metadata": {},
   "outputs": [
    {
     "name": "stderr",
     "output_type": "stream",
     "text": [
      "C:\\Users\\rajag\\anaconda3\\Lib\\site-packages\\sklearn\\linear_model\\_logistic.py:469: ConvergenceWarning: lbfgs failed to converge (status=1):\n",
      "STOP: TOTAL NO. of ITERATIONS REACHED LIMIT.\n",
      "\n",
      "Increase the number of iterations (max_iter) or scale the data as shown in:\n",
      "    https://scikit-learn.org/stable/modules/preprocessing.html\n",
      "Please also refer to the documentation for alternative solver options:\n",
      "    https://scikit-learn.org/stable/modules/linear_model.html#logistic-regression\n",
      "  n_iter_i = _check_optimize_result(\n"
     ]
    },
    {
     "data": {
      "text/html": [
       "<style>#sk-container-id-1 {\n",
       "  /* Definition of color scheme common for light and dark mode */\n",
       "  --sklearn-color-text: black;\n",
       "  --sklearn-color-line: gray;\n",
       "  /* Definition of color scheme for unfitted estimators */\n",
       "  --sklearn-color-unfitted-level-0: #fff5e6;\n",
       "  --sklearn-color-unfitted-level-1: #f6e4d2;\n",
       "  --sklearn-color-unfitted-level-2: #ffe0b3;\n",
       "  --sklearn-color-unfitted-level-3: chocolate;\n",
       "  /* Definition of color scheme for fitted estimators */\n",
       "  --sklearn-color-fitted-level-0: #f0f8ff;\n",
       "  --sklearn-color-fitted-level-1: #d4ebff;\n",
       "  --sklearn-color-fitted-level-2: #b3dbfd;\n",
       "  --sklearn-color-fitted-level-3: cornflowerblue;\n",
       "\n",
       "  /* Specific color for light theme */\n",
       "  --sklearn-color-text-on-default-background: var(--sg-text-color, var(--theme-code-foreground, var(--jp-content-font-color1, black)));\n",
       "  --sklearn-color-background: var(--sg-background-color, var(--theme-background, var(--jp-layout-color0, white)));\n",
       "  --sklearn-color-border-box: var(--sg-text-color, var(--theme-code-foreground, var(--jp-content-font-color1, black)));\n",
       "  --sklearn-color-icon: #696969;\n",
       "\n",
       "  @media (prefers-color-scheme: dark) {\n",
       "    /* Redefinition of color scheme for dark theme */\n",
       "    --sklearn-color-text-on-default-background: var(--sg-text-color, var(--theme-code-foreground, var(--jp-content-font-color1, white)));\n",
       "    --sklearn-color-background: var(--sg-background-color, var(--theme-background, var(--jp-layout-color0, #111)));\n",
       "    --sklearn-color-border-box: var(--sg-text-color, var(--theme-code-foreground, var(--jp-content-font-color1, white)));\n",
       "    --sklearn-color-icon: #878787;\n",
       "  }\n",
       "}\n",
       "\n",
       "#sk-container-id-1 {\n",
       "  color: var(--sklearn-color-text);\n",
       "}\n",
       "\n",
       "#sk-container-id-1 pre {\n",
       "  padding: 0;\n",
       "}\n",
       "\n",
       "#sk-container-id-1 input.sk-hidden--visually {\n",
       "  border: 0;\n",
       "  clip: rect(1px 1px 1px 1px);\n",
       "  clip: rect(1px, 1px, 1px, 1px);\n",
       "  height: 1px;\n",
       "  margin: -1px;\n",
       "  overflow: hidden;\n",
       "  padding: 0;\n",
       "  position: absolute;\n",
       "  width: 1px;\n",
       "}\n",
       "\n",
       "#sk-container-id-1 div.sk-dashed-wrapped {\n",
       "  border: 1px dashed var(--sklearn-color-line);\n",
       "  margin: 0 0.4em 0.5em 0.4em;\n",
       "  box-sizing: border-box;\n",
       "  padding-bottom: 0.4em;\n",
       "  background-color: var(--sklearn-color-background);\n",
       "}\n",
       "\n",
       "#sk-container-id-1 div.sk-container {\n",
       "  /* jupyter's `normalize.less` sets `[hidden] { display: none; }`\n",
       "     but bootstrap.min.css set `[hidden] { display: none !important; }`\n",
       "     so we also need the `!important` here to be able to override the\n",
       "     default hidden behavior on the sphinx rendered scikit-learn.org.\n",
       "     See: https://github.com/scikit-learn/scikit-learn/issues/21755 */\n",
       "  display: inline-block !important;\n",
       "  position: relative;\n",
       "}\n",
       "\n",
       "#sk-container-id-1 div.sk-text-repr-fallback {\n",
       "  display: none;\n",
       "}\n",
       "\n",
       "div.sk-parallel-item,\n",
       "div.sk-serial,\n",
       "div.sk-item {\n",
       "  /* draw centered vertical line to link estimators */\n",
       "  background-image: linear-gradient(var(--sklearn-color-text-on-default-background), var(--sklearn-color-text-on-default-background));\n",
       "  background-size: 2px 100%;\n",
       "  background-repeat: no-repeat;\n",
       "  background-position: center center;\n",
       "}\n",
       "\n",
       "/* Parallel-specific style estimator block */\n",
       "\n",
       "#sk-container-id-1 div.sk-parallel-item::after {\n",
       "  content: \"\";\n",
       "  width: 100%;\n",
       "  border-bottom: 2px solid var(--sklearn-color-text-on-default-background);\n",
       "  flex-grow: 1;\n",
       "}\n",
       "\n",
       "#sk-container-id-1 div.sk-parallel {\n",
       "  display: flex;\n",
       "  align-items: stretch;\n",
       "  justify-content: center;\n",
       "  background-color: var(--sklearn-color-background);\n",
       "  position: relative;\n",
       "}\n",
       "\n",
       "#sk-container-id-1 div.sk-parallel-item {\n",
       "  display: flex;\n",
       "  flex-direction: column;\n",
       "}\n",
       "\n",
       "#sk-container-id-1 div.sk-parallel-item:first-child::after {\n",
       "  align-self: flex-end;\n",
       "  width: 50%;\n",
       "}\n",
       "\n",
       "#sk-container-id-1 div.sk-parallel-item:last-child::after {\n",
       "  align-self: flex-start;\n",
       "  width: 50%;\n",
       "}\n",
       "\n",
       "#sk-container-id-1 div.sk-parallel-item:only-child::after {\n",
       "  width: 0;\n",
       "}\n",
       "\n",
       "/* Serial-specific style estimator block */\n",
       "\n",
       "#sk-container-id-1 div.sk-serial {\n",
       "  display: flex;\n",
       "  flex-direction: column;\n",
       "  align-items: center;\n",
       "  background-color: var(--sklearn-color-background);\n",
       "  padding-right: 1em;\n",
       "  padding-left: 1em;\n",
       "}\n",
       "\n",
       "\n",
       "/* Toggleable style: style used for estimator/Pipeline/ColumnTransformer box that is\n",
       "clickable and can be expanded/collapsed.\n",
       "- Pipeline and ColumnTransformer use this feature and define the default style\n",
       "- Estimators will overwrite some part of the style using the `sk-estimator` class\n",
       "*/\n",
       "\n",
       "/* Pipeline and ColumnTransformer style (default) */\n",
       "\n",
       "#sk-container-id-1 div.sk-toggleable {\n",
       "  /* Default theme specific background. It is overwritten whether we have a\n",
       "  specific estimator or a Pipeline/ColumnTransformer */\n",
       "  background-color: var(--sklearn-color-background);\n",
       "}\n",
       "\n",
       "/* Toggleable label */\n",
       "#sk-container-id-1 label.sk-toggleable__label {\n",
       "  cursor: pointer;\n",
       "  display: block;\n",
       "  width: 100%;\n",
       "  margin-bottom: 0;\n",
       "  padding: 0.5em;\n",
       "  box-sizing: border-box;\n",
       "  text-align: center;\n",
       "}\n",
       "\n",
       "#sk-container-id-1 label.sk-toggleable__label-arrow:before {\n",
       "  /* Arrow on the left of the label */\n",
       "  content: \"▸\";\n",
       "  float: left;\n",
       "  margin-right: 0.25em;\n",
       "  color: var(--sklearn-color-icon);\n",
       "}\n",
       "\n",
       "#sk-container-id-1 label.sk-toggleable__label-arrow:hover:before {\n",
       "  color: var(--sklearn-color-text);\n",
       "}\n",
       "\n",
       "/* Toggleable content - dropdown */\n",
       "\n",
       "#sk-container-id-1 div.sk-toggleable__content {\n",
       "  max-height: 0;\n",
       "  max-width: 0;\n",
       "  overflow: hidden;\n",
       "  text-align: left;\n",
       "  /* unfitted */\n",
       "  background-color: var(--sklearn-color-unfitted-level-0);\n",
       "}\n",
       "\n",
       "#sk-container-id-1 div.sk-toggleable__content.fitted {\n",
       "  /* fitted */\n",
       "  background-color: var(--sklearn-color-fitted-level-0);\n",
       "}\n",
       "\n",
       "#sk-container-id-1 div.sk-toggleable__content pre {\n",
       "  margin: 0.2em;\n",
       "  border-radius: 0.25em;\n",
       "  color: var(--sklearn-color-text);\n",
       "  /* unfitted */\n",
       "  background-color: var(--sklearn-color-unfitted-level-0);\n",
       "}\n",
       "\n",
       "#sk-container-id-1 div.sk-toggleable__content.fitted pre {\n",
       "  /* unfitted */\n",
       "  background-color: var(--sklearn-color-fitted-level-0);\n",
       "}\n",
       "\n",
       "#sk-container-id-1 input.sk-toggleable__control:checked~div.sk-toggleable__content {\n",
       "  /* Expand drop-down */\n",
       "  max-height: 200px;\n",
       "  max-width: 100%;\n",
       "  overflow: auto;\n",
       "}\n",
       "\n",
       "#sk-container-id-1 input.sk-toggleable__control:checked~label.sk-toggleable__label-arrow:before {\n",
       "  content: \"▾\";\n",
       "}\n",
       "\n",
       "/* Pipeline/ColumnTransformer-specific style */\n",
       "\n",
       "#sk-container-id-1 div.sk-label input.sk-toggleable__control:checked~label.sk-toggleable__label {\n",
       "  color: var(--sklearn-color-text);\n",
       "  background-color: var(--sklearn-color-unfitted-level-2);\n",
       "}\n",
       "\n",
       "#sk-container-id-1 div.sk-label.fitted input.sk-toggleable__control:checked~label.sk-toggleable__label {\n",
       "  background-color: var(--sklearn-color-fitted-level-2);\n",
       "}\n",
       "\n",
       "/* Estimator-specific style */\n",
       "\n",
       "/* Colorize estimator box */\n",
       "#sk-container-id-1 div.sk-estimator input.sk-toggleable__control:checked~label.sk-toggleable__label {\n",
       "  /* unfitted */\n",
       "  background-color: var(--sklearn-color-unfitted-level-2);\n",
       "}\n",
       "\n",
       "#sk-container-id-1 div.sk-estimator.fitted input.sk-toggleable__control:checked~label.sk-toggleable__label {\n",
       "  /* fitted */\n",
       "  background-color: var(--sklearn-color-fitted-level-2);\n",
       "}\n",
       "\n",
       "#sk-container-id-1 div.sk-label label.sk-toggleable__label,\n",
       "#sk-container-id-1 div.sk-label label {\n",
       "  /* The background is the default theme color */\n",
       "  color: var(--sklearn-color-text-on-default-background);\n",
       "}\n",
       "\n",
       "/* On hover, darken the color of the background */\n",
       "#sk-container-id-1 div.sk-label:hover label.sk-toggleable__label {\n",
       "  color: var(--sklearn-color-text);\n",
       "  background-color: var(--sklearn-color-unfitted-level-2);\n",
       "}\n",
       "\n",
       "/* Label box, darken color on hover, fitted */\n",
       "#sk-container-id-1 div.sk-label.fitted:hover label.sk-toggleable__label.fitted {\n",
       "  color: var(--sklearn-color-text);\n",
       "  background-color: var(--sklearn-color-fitted-level-2);\n",
       "}\n",
       "\n",
       "/* Estimator label */\n",
       "\n",
       "#sk-container-id-1 div.sk-label label {\n",
       "  font-family: monospace;\n",
       "  font-weight: bold;\n",
       "  display: inline-block;\n",
       "  line-height: 1.2em;\n",
       "}\n",
       "\n",
       "#sk-container-id-1 div.sk-label-container {\n",
       "  text-align: center;\n",
       "}\n",
       "\n",
       "/* Estimator-specific */\n",
       "#sk-container-id-1 div.sk-estimator {\n",
       "  font-family: monospace;\n",
       "  border: 1px dotted var(--sklearn-color-border-box);\n",
       "  border-radius: 0.25em;\n",
       "  box-sizing: border-box;\n",
       "  margin-bottom: 0.5em;\n",
       "  /* unfitted */\n",
       "  background-color: var(--sklearn-color-unfitted-level-0);\n",
       "}\n",
       "\n",
       "#sk-container-id-1 div.sk-estimator.fitted {\n",
       "  /* fitted */\n",
       "  background-color: var(--sklearn-color-fitted-level-0);\n",
       "}\n",
       "\n",
       "/* on hover */\n",
       "#sk-container-id-1 div.sk-estimator:hover {\n",
       "  /* unfitted */\n",
       "  background-color: var(--sklearn-color-unfitted-level-2);\n",
       "}\n",
       "\n",
       "#sk-container-id-1 div.sk-estimator.fitted:hover {\n",
       "  /* fitted */\n",
       "  background-color: var(--sklearn-color-fitted-level-2);\n",
       "}\n",
       "\n",
       "/* Specification for estimator info (e.g. \"i\" and \"?\") */\n",
       "\n",
       "/* Common style for \"i\" and \"?\" */\n",
       "\n",
       ".sk-estimator-doc-link,\n",
       "a:link.sk-estimator-doc-link,\n",
       "a:visited.sk-estimator-doc-link {\n",
       "  float: right;\n",
       "  font-size: smaller;\n",
       "  line-height: 1em;\n",
       "  font-family: monospace;\n",
       "  background-color: var(--sklearn-color-background);\n",
       "  border-radius: 1em;\n",
       "  height: 1em;\n",
       "  width: 1em;\n",
       "  text-decoration: none !important;\n",
       "  margin-left: 1ex;\n",
       "  /* unfitted */\n",
       "  border: var(--sklearn-color-unfitted-level-1) 1pt solid;\n",
       "  color: var(--sklearn-color-unfitted-level-1);\n",
       "}\n",
       "\n",
       ".sk-estimator-doc-link.fitted,\n",
       "a:link.sk-estimator-doc-link.fitted,\n",
       "a:visited.sk-estimator-doc-link.fitted {\n",
       "  /* fitted */\n",
       "  border: var(--sklearn-color-fitted-level-1) 1pt solid;\n",
       "  color: var(--sklearn-color-fitted-level-1);\n",
       "}\n",
       "\n",
       "/* On hover */\n",
       "div.sk-estimator:hover .sk-estimator-doc-link:hover,\n",
       ".sk-estimator-doc-link:hover,\n",
       "div.sk-label-container:hover .sk-estimator-doc-link:hover,\n",
       ".sk-estimator-doc-link:hover {\n",
       "  /* unfitted */\n",
       "  background-color: var(--sklearn-color-unfitted-level-3);\n",
       "  color: var(--sklearn-color-background);\n",
       "  text-decoration: none;\n",
       "}\n",
       "\n",
       "div.sk-estimator.fitted:hover .sk-estimator-doc-link.fitted:hover,\n",
       ".sk-estimator-doc-link.fitted:hover,\n",
       "div.sk-label-container:hover .sk-estimator-doc-link.fitted:hover,\n",
       ".sk-estimator-doc-link.fitted:hover {\n",
       "  /* fitted */\n",
       "  background-color: var(--sklearn-color-fitted-level-3);\n",
       "  color: var(--sklearn-color-background);\n",
       "  text-decoration: none;\n",
       "}\n",
       "\n",
       "/* Span, style for the box shown on hovering the info icon */\n",
       ".sk-estimator-doc-link span {\n",
       "  display: none;\n",
       "  z-index: 9999;\n",
       "  position: relative;\n",
       "  font-weight: normal;\n",
       "  right: .2ex;\n",
       "  padding: .5ex;\n",
       "  margin: .5ex;\n",
       "  width: min-content;\n",
       "  min-width: 20ex;\n",
       "  max-width: 50ex;\n",
       "  color: var(--sklearn-color-text);\n",
       "  box-shadow: 2pt 2pt 4pt #999;\n",
       "  /* unfitted */\n",
       "  background: var(--sklearn-color-unfitted-level-0);\n",
       "  border: .5pt solid var(--sklearn-color-unfitted-level-3);\n",
       "}\n",
       "\n",
       ".sk-estimator-doc-link.fitted span {\n",
       "  /* fitted */\n",
       "  background: var(--sklearn-color-fitted-level-0);\n",
       "  border: var(--sklearn-color-fitted-level-3);\n",
       "}\n",
       "\n",
       ".sk-estimator-doc-link:hover span {\n",
       "  display: block;\n",
       "}\n",
       "\n",
       "/* \"?\"-specific style due to the `<a>` HTML tag */\n",
       "\n",
       "#sk-container-id-1 a.estimator_doc_link {\n",
       "  float: right;\n",
       "  font-size: 1rem;\n",
       "  line-height: 1em;\n",
       "  font-family: monospace;\n",
       "  background-color: var(--sklearn-color-background);\n",
       "  border-radius: 1rem;\n",
       "  height: 1rem;\n",
       "  width: 1rem;\n",
       "  text-decoration: none;\n",
       "  /* unfitted */\n",
       "  color: var(--sklearn-color-unfitted-level-1);\n",
       "  border: var(--sklearn-color-unfitted-level-1) 1pt solid;\n",
       "}\n",
       "\n",
       "#sk-container-id-1 a.estimator_doc_link.fitted {\n",
       "  /* fitted */\n",
       "  border: var(--sklearn-color-fitted-level-1) 1pt solid;\n",
       "  color: var(--sklearn-color-fitted-level-1);\n",
       "}\n",
       "\n",
       "/* On hover */\n",
       "#sk-container-id-1 a.estimator_doc_link:hover {\n",
       "  /* unfitted */\n",
       "  background-color: var(--sklearn-color-unfitted-level-3);\n",
       "  color: var(--sklearn-color-background);\n",
       "  text-decoration: none;\n",
       "}\n",
       "\n",
       "#sk-container-id-1 a.estimator_doc_link.fitted:hover {\n",
       "  /* fitted */\n",
       "  background-color: var(--sklearn-color-fitted-level-3);\n",
       "}\n",
       "</style><div id=\"sk-container-id-1\" class=\"sk-top-container\"><div class=\"sk-text-repr-fallback\"><pre>LogisticRegression()</pre><b>In a Jupyter environment, please rerun this cell to show the HTML representation or trust the notebook. <br />On GitHub, the HTML representation is unable to render, please try loading this page with nbviewer.org.</b></div><div class=\"sk-container\" hidden><div class=\"sk-item\"><div class=\"sk-estimator fitted sk-toggleable\"><input class=\"sk-toggleable__control sk-hidden--visually\" id=\"sk-estimator-id-1\" type=\"checkbox\" checked><label for=\"sk-estimator-id-1\" class=\"sk-toggleable__label fitted sk-toggleable__label-arrow fitted\">&nbsp;&nbsp;LogisticRegression<a class=\"sk-estimator-doc-link fitted\" rel=\"noreferrer\" target=\"_blank\" href=\"https://scikit-learn.org/1.4/modules/generated/sklearn.linear_model.LogisticRegression.html\">?<span>Documentation for LogisticRegression</span></a><span class=\"sk-estimator-doc-link fitted\">i<span>Fitted</span></span></label><div class=\"sk-toggleable__content fitted\"><pre>LogisticRegression()</pre></div> </div></div></div></div>"
      ],
      "text/plain": [
       "LogisticRegression()"
      ]
     },
     "execution_count": 54,
     "metadata": {},
     "output_type": "execute_result"
    }
   ],
   "source": [
    "model=LogisticRegression()\n",
    "model.fit(x_train, y_train)"
   ]
  },
  {
   "cell_type": "code",
   "execution_count": 56,
   "id": "959e14c8-01a4-4a61-aef1-244fb4ae2c11",
   "metadata": {},
   "outputs": [
    {
     "data": {
      "text/plain": [
       "array([' action ', ' adult ', ' adventure ', ' animation ', ' biography ',\n",
       "       ' comedy ', ' crime ', ' documentary ', ' drama ', ' family ',\n",
       "       ' fantasy ', ' game-show ', ' history ', ' horror ', ' music ',\n",
       "       ' musical ', ' mystery ', ' news ', ' reality-tv ', ' romance ',\n",
       "       ' sci-fi ', ' short ', ' sport ', ' talk-show ', ' thriller ',\n",
       "       ' war ', ' western '], dtype=object)"
      ]
     },
     "execution_count": 56,
     "metadata": {},
     "output_type": "execute_result"
    }
   ],
   "source": [
    "model.classes_"
   ]
  },
  {
   "cell_type": "code",
   "execution_count": 58,
   "id": "a8857ae5-2cea-43a9-b111-a442182da816",
   "metadata": {},
   "outputs": [
    {
     "data": {
      "text/plain": [
       "0.7041571557031195"
      ]
     },
     "execution_count": 58,
     "metadata": {},
     "output_type": "execute_result"
    }
   ],
   "source": [
    "model.score(x_train,y_train)"
   ]
  },
  {
   "cell_type": "code",
   "execution_count": 61,
   "id": "30d6fc96-5849-4a22-8e05-95b7a31fde3e",
   "metadata": {},
   "outputs": [
    {
     "data": {
      "text/plain": [
       "array([ 0.41333315, -0.13165999,  0.16275962, -0.23185567, -0.90475043,\n",
       "        2.04119494, -0.32763412,  2.21488057,  2.379457  , -0.07980214,\n",
       "       -0.62724768, -1.39779449, -0.89905   ,  0.4713518 , -0.19288717,\n",
       "       -0.73300987, -0.65206352, -1.02892114,  0.08823377, -0.32716949,\n",
       "       -0.25040086,  2.24416233, -0.34336041, -0.55960018,  0.3063689 ,\n",
       "       -1.66242184,  0.0278869 ])"
      ]
     },
     "execution_count": 61,
     "metadata": {},
     "output_type": "execute_result"
    }
   ],
   "source": [
    "model.intercept_"
   ]
  },
  {
   "cell_type": "code",
   "execution_count": 63,
   "id": "59374292-cef8-4668-b04f-e2c40914a807",
   "metadata": {},
   "outputs": [
    {
     "data": {
      "text/plain": [
       "array([[ 0.17321777, -0.00201194, -0.00237029, ..., -0.00813504,\n",
       "        -0.00832172, -0.00168293],\n",
       "       [-0.00835327, -0.0009969 , -0.001544  , ..., -0.00427052,\n",
       "        -0.00354278, -0.00102535],\n",
       "       [-0.01350673, -0.00173676, -0.00206306, ..., -0.00741554,\n",
       "        -0.00525297, -0.00148336],\n",
       "       ...,\n",
       "       [-0.01748871, -0.00184032, -0.00389084, ..., -0.00841056,\n",
       "        -0.00604376, -0.00172285],\n",
       "       [-0.00242441, -0.00031128, -0.00042747, ..., -0.00119368,\n",
       "        -0.00105512, -0.00023511],\n",
       "       [-0.01052081, -0.00097735, -0.00113857, ..., -0.00460418,\n",
       "        -0.00496789, -0.00128901]])"
      ]
     },
     "execution_count": 63,
     "metadata": {},
     "output_type": "execute_result"
    }
   ],
   "source": [
    "model.coef_"
   ]
  },
  {
   "cell_type": "code",
   "execution_count": 65,
   "id": "cf13083c-5921-437f-b922-359c81ccb6b6",
   "metadata": {},
   "outputs": [],
   "source": [
    "y_pred = model.predict(x_test)"
   ]
  },
  {
   "cell_type": "code",
   "execution_count": 67,
   "id": "47851101-c863-4c43-8a21-fc5edcedbc87",
   "metadata": {},
   "outputs": [
    {
     "data": {
      "text/plain": [
       "array([[  49,    1,    0,    0,    0,   31,    0,   35,  107,    0,    0,\n",
       "           0,    0,    5,    0,    0,    0,    0,    0,    0,    6,   10,\n",
       "           1,    0,    2,    0,    1],\n",
       "       [   0,   30,    6,    0,    0,   37,    0,    6,   22,    0,    0,\n",
       "           0,    0,    1,    0,    0,    0,    0,    0,    0,    0,    6,\n",
       "           0,    0,    0,    0,    2],\n",
       "       [   4,    5,   19,    0,    0,   21,    0,   30,   51,    1,    0,\n",
       "           0,    0,    6,    0,    0,    0,    0,    2,    0,    1,    9,\n",
       "           0,    0,    1,    0,    0],\n",
       "       [   1,    0,    1,    0,    0,   44,    0,   20,   27,    0,    0,\n",
       "           0,    0,    3,    0,    0,    0,    0,    0,    0,    0,   11,\n",
       "           0,    0,    0,    0,    0],\n",
       "       [   0,    0,    0,    0,    0,    0,    0,   37,   13,    0,    0,\n",
       "           0,    0,    0,    1,    0,    0,    0,    0,    0,    0,    0,\n",
       "           0,    0,    1,    0,    0],\n",
       "       [   4,    0,    0,    0,    0,  885,    0,  106,  454,    0,    0,\n",
       "           0,    0,   12,    1,    0,    0,    0,    2,    1,    0,   28,\n",
       "           1,    0,    2,    0,    1],\n",
       "       [   4,    0,    0,    0,    0,   12,    1,   10,   56,    0,    0,\n",
       "           0,    0,    0,    0,    0,    0,    0,    0,    0,    0,    1,\n",
       "           0,    0,    5,    0,    1],\n",
       "       [   2,    0,    0,    0,    0,   45,    1, 2255,  222,    2,    0,\n",
       "           0,    0,    2,    9,    0,    0,    0,    2,    1,    1,   43,\n",
       "           1,    0,    0,    0,    0],\n",
       "       [   3,    0,    0,    0,    0,  195,    1,  221, 2257,    0,    0,\n",
       "           0,    0,   10,    0,    0,    0,    0,    3,    1,    1,   73,\n",
       "           0,    0,    7,    0,    1],\n",
       "       [   0,    0,    0,    0,    0,   44,    0,   42,   54,    7,    0,\n",
       "           1,    0,    3,    1,    0,    0,    0,    4,    0,    0,    8,\n",
       "           0,    0,    0,    0,    0],\n",
       "       [   3,    0,    0,    1,    0,    7,    0,   13,   31,    0,    0,\n",
       "           0,    0,    2,    0,    0,    0,    0,    0,    0,    2,    8,\n",
       "           0,    0,    0,    0,    0],\n",
       "       [   0,    0,    0,    0,    0,    8,    0,    6,    1,    0,    0,\n",
       "          14,    0,    0,    0,    0,    0,    0,    3,    0,    0,    1,\n",
       "           0,    0,    0,    0,    0],\n",
       "       [   0,    0,    0,    0,    0,    1,    0,   31,   15,    0,    0,\n",
       "           0,    0,    0,    0,    0,    0,    0,    0,    0,    0,    0,\n",
       "           0,    0,    0,    0,    0],\n",
       "       [   3,    0,    0,    0,    0,   33,    0,   23,  102,    0,    0,\n",
       "           0,    0,  239,    0,    0,    0,    0,    0,    0,    3,   13,\n",
       "           0,    0,    8,    0,    0],\n",
       "       [   0,    0,    0,    0,    0,   10,    0,   77,   12,    0,    0,\n",
       "           0,    0,    0,   53,    0,    0,    0,    2,    0,    0,    7,\n",
       "           0,    2,    0,    0,    0],\n",
       "       [   0,    0,    0,    0,    0,   11,    0,   11,   28,    0,    0,\n",
       "           0,    0,    2,    1,    0,    0,    0,    0,    0,    0,    3,\n",
       "           0,    0,    0,    0,    0],\n",
       "       [   1,    0,    0,    0,    0,   10,    1,    5,   23,    0,    0,\n",
       "           0,    0,    7,    0,    0,    0,    0,    0,    0,    0,    1,\n",
       "           0,    0,    7,    0,    0],\n",
       "       [   0,    0,    0,    0,    0,    3,    0,   24,    2,    0,    0,\n",
       "           0,    0,    0,    0,    0,    0,    0,    1,    0,    0,    1,\n",
       "           0,    1,    0,    0,    0],\n",
       "       [   0,    0,    0,    0,    0,   43,    0,   69,   14,    0,    0,\n",
       "           2,    0,    1,    0,    0,    0,    0,   21,    0,    0,    6,\n",
       "           0,    1,    0,    0,    0],\n",
       "       [   0,    1,    0,    0,    0,   21,    0,    1,   96,    0,    0,\n",
       "           0,    0,    0,    0,    0,    0,    0,    0,    0,    0,    2,\n",
       "           0,    0,    0,    0,    0],\n",
       "       [   4,    0,    0,    0,    0,    8,    0,   38,   40,    0,    0,\n",
       "           0,    0,    8,    0,    0,    0,    0,    0,    0,   28,   10,\n",
       "           0,    0,    2,    0,    1],\n",
       "       [   4,    0,    0,    0,    0,   98,    1,  278,  329,    2,    0,\n",
       "           0,    0,   14,    1,    0,    0,    0,    1,    0,    2,  315,\n",
       "           0,    0,    4,    0,    1],\n",
       "       [   0,    0,    0,    0,    0,    8,    0,   60,    6,    0,    0,\n",
       "           0,    0,    0,    0,    0,    0,    0,    1,    0,    0,    5,\n",
       "          14,    0,    0,    0,    0],\n",
       "       [   0,    0,    0,    0,    0,   11,    0,   48,    4,    0,    0,\n",
       "           0,    0,    0,    2,    0,    0,    0,    3,    0,    0,    1,\n",
       "           0,   12,    0,    0,    0],\n",
       "       [   1,    0,    0,    0,    0,   36,    0,   25,  178,    0,    0,\n",
       "           0,    0,   33,    0,    0,    0,    0,    1,    0,    0,   16,\n",
       "           0,    0,   34,    0,    0],\n",
       "       [   2,    0,    0,    0,    0,    1,    0,   12,   10,    0,    0,\n",
       "           0,    0,    0,    0,    0,    0,    0,    1,    0,    0,    0,\n",
       "           0,    0,    0,    0,    0],\n",
       "       [   1,    0,    0,    0,    0,   19,    0,    4,   56,    0,    0,\n",
       "           0,    0,    0,    0,    0,    0,    0,    0,    0,    0,    0,\n",
       "           0,    0,    1,    0,  116]], dtype=int64)"
      ]
     },
     "execution_count": 67,
     "metadata": {},
     "output_type": "execute_result"
    }
   ],
   "source": [
    "from sklearn.metrics import confusion_matrix\n",
    "confusion_matrix(y_test, y_pred)"
   ]
  },
  {
   "cell_type": "code",
   "execution_count": 69,
   "id": "c3fa6913-2f4f-4f76-88c9-db3a05d35918",
   "metadata": {},
   "outputs": [
    {
     "name": "stderr",
     "output_type": "stream",
     "text": [
      "C:\\Users\\rajag\\anaconda3\\Lib\\site-packages\\sklearn\\metrics\\_classification.py:1509: UndefinedMetricWarning: Precision is ill-defined and being set to 0.0 in labels with no predicted samples. Use `zero_division` parameter to control this behavior.\n",
      "  _warn_prf(average, modifier, f\"{metric.capitalize()} is\", len(result))\n"
     ]
    },
    {
     "name": "stdout",
     "output_type": "stream",
     "text": [
      "               precision    recall  f1-score   support\n",
      "\n",
      "      action        0.57      0.20      0.29       248\n",
      "       adult        0.81      0.27      0.41       110\n",
      "   adventure        0.73      0.13      0.22       150\n",
      "   animation        0.00      0.00      0.00       107\n",
      "   biography        0.00      0.00      0.00        52\n",
      "      comedy        0.54      0.59      0.56      1497\n",
      "       crime        0.20      0.01      0.02        90\n",
      " documentary        0.65      0.87      0.74      2586\n",
      "       drama        0.54      0.81      0.65      2773\n",
      "      family        0.58      0.04      0.08       164\n",
      "     fantasy        0.00      0.00      0.00        67\n",
      "   game-show        0.82      0.42      0.56        33\n",
      "     history        0.00      0.00      0.00        47\n",
      "      horror        0.69      0.56      0.62       424\n",
      "       music        0.77      0.33      0.46       163\n",
      "     musical        0.00      0.00      0.00        56\n",
      "     mystery        0.00      0.00      0.00        55\n",
      "        news        0.00      0.00      0.00        32\n",
      "  reality-tv        0.45      0.13      0.21       157\n",
      "     romance        0.00      0.00      0.00       121\n",
      "      sci-fi        0.64      0.20      0.31       139\n",
      "       short        0.54      0.30      0.39      1050\n",
      "       sport        0.82      0.15      0.25        94\n",
      "   talk-show        0.75      0.15      0.25        81\n",
      "    thriller        0.46      0.10      0.17       324\n",
      "         war        0.00      0.00      0.00        26\n",
      "     western        0.94      0.59      0.72       197\n",
      "\n",
      "     accuracy                           0.59     10843\n",
      "    macro avg       0.43      0.22      0.26     10843\n",
      " weighted avg       0.56      0.59      0.53     10843\n",
      "\n"
     ]
    },
    {
     "name": "stderr",
     "output_type": "stream",
     "text": [
      "C:\\Users\\rajag\\anaconda3\\Lib\\site-packages\\sklearn\\metrics\\_classification.py:1509: UndefinedMetricWarning: Precision is ill-defined and being set to 0.0 in labels with no predicted samples. Use `zero_division` parameter to control this behavior.\n",
      "  _warn_prf(average, modifier, f\"{metric.capitalize()} is\", len(result))\n",
      "C:\\Users\\rajag\\anaconda3\\Lib\\site-packages\\sklearn\\metrics\\_classification.py:1509: UndefinedMetricWarning: Precision is ill-defined and being set to 0.0 in labels with no predicted samples. Use `zero_division` parameter to control this behavior.\n",
      "  _warn_prf(average, modifier, f\"{metric.capitalize()} is\", len(result))\n"
     ]
    }
   ],
   "source": [
    "print(classification_report(y_test, y_pred))"
   ]
  },
  {
   "cell_type": "code",
   "execution_count": null,
   "id": "081e7b0d-144d-44e9-8b47-389028780918",
   "metadata": {},
   "outputs": [],
   "source": []
  }
 ],
 "metadata": {
  "kernelspec": {
   "display_name": "Python 3 (ipykernel)",
   "language": "python",
   "name": "python3"
  },
  "language_info": {
   "codemirror_mode": {
    "name": "ipython",
    "version": 3
   },
   "file_extension": ".py",
   "mimetype": "text/x-python",
   "name": "python",
   "nbconvert_exporter": "python",
   "pygments_lexer": "ipython3",
   "version": "3.12.4"
  }
 },
 "nbformat": 4,
 "nbformat_minor": 5
}
